{
 "cells": [
  {
   "cell_type": "code",
   "execution_count": 1,
   "metadata": {},
   "outputs": [],
   "source": [
    "import os\n",
    "from dotenv import load_dotenv\n",
    "load_dotenv()\n",
    "\n",
    "groq_api_key = os.getenv(\"GROQ_API_KEY\")\n",
    "if groq_api_key is None:\n",
    "    raise ValueError(\"GROQ_API_KEY environment variable is not set\")\n",
    "os.environ[\"GROQ_API_KEY\"] = groq_api_key\n",
    "\n",
    "from langchain_groq import ChatGroq\n",
    "\n",
    "llm = ChatGroq(model=\"llama-3.3-70b-versatile\")"
   ]
  },
  {
   "cell_type": "code",
   "execution_count": 2,
   "metadata": {},
   "outputs": [],
   "source": [
    "from typing_extensions import TypedDict\n",
    "from langgraph.graph import StateGraph, START, END\n",
    "from IPython.display import Image ,display\n",
    "\n",
    "class State(TypedDict):\n",
    "    name:str\n",
    "    career:str\n",
    "    repos:str\n",
    "    tech_stack:str\n",
    "    summary:str"
   ]
  },
  {
   "cell_type": "code",
   "execution_count": 3,
   "metadata": {},
   "outputs": [],
   "source": [
    "def top_github_repos(state:State):\n",
    "    msg=llm.invoke(f\"\"\"\n",
    "                   You are an expert roadmap creator.\n",
    "                   Generate a precise roadmap for user whose name is {state[\"name\"]}.\n",
    "                   User wants to build a career in {state['career']}.\n",
    "                   Fetch the link of top GitHub repositories which provides roadmap based on {state['career']} in Markdown formatting.\n",
    "    \"\"\")\n",
    "    return {\"repos\":msg.content}"
   ]
  },
  {
   "cell_type": "code",
   "execution_count": 4,
   "metadata": {},
   "outputs": [],
   "source": [
    "def list_tech_stack(state:State):\n",
    "    msg=llm.invoke(f\"\"\"\n",
    "                   Based on provided {state['career']}, create a list of technical skills required to master it.\n",
    "                   Create a bullet-wise list with Markdown formatting. \n",
    "    \"\"\")\n",
    "    return {\"tech_stack\":msg.content}"
   ]
  },
  {
   "cell_type": "code",
   "execution_count": 5,
   "metadata": {},
   "outputs": [],
   "source": [
    "def generate_summary(state:State):\n",
    "    msg=llm.invoke(f\"\"\"\n",
    "                   After fetching top GitHub Repos from {state['repos']} and technical skill requirements from {state['tech_stack']},\n",
    "                   Now generate a brief summary to guide {state['name']} based on the given Roadmap.\n",
    "                   Use Markdown formatting.\n",
    "    \"\"\")\n",
    "    return {\"summary\":msg.content}"
   ]
  },
  {
   "cell_type": "code",
   "execution_count": 6,
   "metadata": {},
   "outputs": [
    {
     "data": {
      "image/png": "[encoded data removed]",
      "text/plain": [
       "<IPython.core.display.Image object>"
      ]
     },
     "metadata": {},
     "output_type": "display_data"
    }
   ],
   "source": [
    "graph = StateGraph(State)\n",
    "\n",
    "graph.add_node(\"GitHub Repos\", top_github_repos)\n",
    "graph.add_node(\"Tech Stack\", list_tech_stack)\n",
    "graph.add_node(\"Summarize\", generate_summary)\n",
    "graph.add_edge(START,\"GitHub Repos\")\n",
    "graph.add_edge(\"GitHub Repos\",\"Tech Stack\")\n",
    "graph.add_edge(\"Tech Stack\",\"Summarize\")\n",
    "graph.add_edge(\"Summarize\",END)\n",
    "\n",
    "compiled_graph = graph.compile()\n",
    "\n",
    "graph_image = compiled_graph.get_graph().draw_mermaid_png()\n",
    "display(Image(graph_image))"
   ]
  },
  {
   "cell_type": "code",
   "execution_count": 7,
   "metadata": {},
   "outputs": [],
   "source": [
    "from IPython.display import Markdown\n",
    "\n",
    "name = \"Soham\"\n",
    "career = \"AI Agents Developer\"\n",
    "\n",
    "state = compiled_graph.invoke({\n",
    "    \"name\":name,\n",
    "    \"career\":career,\n",
    "})"
   ]
  },
  {
   "cell_type": "code",
   "execution_count": 8,
   "metadata": {},
   "outputs": [
    {
     "data": {
      "text/markdown": [
       "**Soham's Roadmap to Becoming an AI Agents Developer**\n",
       "=====================================================\n",
       "\n",
       "### Phase 1: Foundations (3-6 months)\n",
       "\n",
       "1. **Programming skills**:\n",
       "\t* Python programming language (focus on Python 3.x)\n",
       "\t* Familiarity with data structures and algorithms\n",
       "2. **Mathematics**:\n",
       "\t* Linear Algebra\n",
       "\t* Calculus\n",
       "\t* Probability and Statistics\n",
       "3. **Introduction to AI and Machine Learning**:\n",
       "\t* Study the basics of AI, Machine Learning, and Deep Learning\n",
       "\t* Familiarize yourself with popular libraries like TensorFlow, PyTorch, or Keras\n",
       "\n",
       "### Phase 2: AI Fundamentals (6-12 months)\n",
       "\n",
       "1. **Machine Learning**:\n",
       "\t* Study supervised, unsupervised, and reinforcement learning\n",
       "\t* Learn about neural networks, convolutional neural networks, and recurrent neural networks\n",
       "2. **Deep Learning**:\n",
       "\t* Study deep learning architectures and techniques\n",
       "\t* Learn about transfer learning, fine-tuning, and regularization\n",
       "3. **AI Agents**:\n",
       "\t* Study the basics of AI agents, including agent types, agent architectures, and decision-making processes\n",
       "\n",
       "### Phase 3: Specialization (6-12 months)\n",
       "\n",
       "1. **Agent Development**:\n",
       "\t* Learn about agent development frameworks like Unity ML-Agents or Google's Dopamine\n",
       "\t* Study agent training methods, including reinforcement learning and imitation learning\n",
       "2. **Agent Deployment**:\n",
       "\t* Learn about deploying agents in various environments, including simulations and real-world scenarios\n",
       "\t* Study agent evaluation metrics and methods\n",
       "3. **Advanced Topics**:\n",
       "\t* Study advanced topics like multi-agent systems, agent communication, and agent reasoning\n",
       "\n",
       "### Phase 4: Practice and Projects (6-12 months)\n",
       "\n",
       "1. **Personal Projects**:\n",
       "\t* Develop personal projects that integrate AI agents, such as games, simulations, or chatbots\n",
       "\t* Experiment with different agent architectures and training methods\n",
       "2. **Contributions to Open-Source**:\n",
       "\t* Contribute to open-source projects related to AI agents, such as [Unity ML-Agents](https://github.com/Unity-Technologies/ml-agents) or [Google's Dopamine](https://github.com/google/dopamine)\n",
       "3. **Participation in Competitions**:\n",
       "\t* Participate in AI-related competitions, such as the [AI Alignment Prize](https://www.aialignmentprize.com/) or [Google's AI Challenge](https://ai.google/challenge)\n",
       "\n",
       "### Top GitHub Repositories for AI Agents Developer Roadmap\n",
       "\n",
       "Here are some top GitHub repositories that provide a roadmap for AI Agents Developer:\n",
       "* [Unity ML-Agents](https://github.com/Unity-Technologies/ml-agents): A popular open-source framework for developing AI agents.\n",
       "* [Google's Dopamine](https://github.com/google/dopamine): A research framework for developing AI agents, focusing on reinforcement learning and multi-agent systems.\n",
       "* [Stanford CS229: Machine Learning](https://github.com/CS229/stanford-cs229-machine-learning): A GitHub repository for Stanford University's CS229: Machine Learning course, which covers the basics of machine learning and AI.\n",
       "* [Deep RL](https://github.com/ShangtongZhang/DeepRL): A GitHub repository for deep reinforcement learning, covering topics like DQN, PG, and Actor-Critic methods.\n",
       "* [AI Alignment Prize](https://github.com/ai-alignment-prize/ai-alignment-prize): A GitHub repository for the AI Alignment Prize, which focuses on developing AI systems that align with human values.\n",
       "\n",
       "These repositories provide a wealth of information, including tutorials, examples, and research papers, to help you become an AI Agents Developer. Remember to practice regularly, work on personal projects, and contribute to open-source projects to reinforce your learning.\n",
       "\n",
       "### Additional Resources\n",
       "\n",
       "* **Books**:\n",
       "\t+ \"Deep Learning\" by Ian Goodfellow, Yoshua Bengio, and Aaron Courville\n",
       "\t+ \"Reinforcement Learning: An Introduction\" by Richard S. Sutton and Andrew G. Barto\n",
       "* **Courses**:\n",
       "\t+ [Stanford CS229: Machine Learning](https://stanford.edu/~shervine/l/d/deep-learning)\n",
       "\t+ [Deep RL](https://www.deep rl.com/)\n",
       "* **Communities**:\n",
       "\t+ [Kaggle](https://www.kaggle.com/)\n",
       "\t+ [Reddit: r/MachineLearning](https://www.reddit.com/r/MachineLearning/)"
      ],
      "text/plain": [
       "<IPython.core.display.Markdown object>"
      ]
     },
     "execution_count": 8,
     "metadata": {},
     "output_type": "execute_result"
    }
   ],
   "source": [
    "Markdown(state['repos'])"
   ]
  },
  {
   "cell_type": "code",
   "execution_count": 9,
   "metadata": {},
   "outputs": [
    {
     "data": {
      "text/markdown": [
       "### Technical Skills Required to Master AI Agents Developer\n",
       "To become proficient in AI Agents Developer, the following technical skills are necessary:\n",
       "* **Programming languages**: Proficiency in languages such as Python, Java, C++, or MATLAB to develop and implement AI models\n",
       "* **Machine learning frameworks**: Experience with popular frameworks like TensorFlow, PyTorch, or Scikit-learn to build and train AI models\n",
       "* **Deep learning**: Knowledge of deep learning techniques, including convolutional neural networks (CNNs), recurrent neural networks (RNNs), and long short-term memory (LSTM) networks\n",
       "* **Natural language processing (NLP)**: Understanding of NLP concepts, including text preprocessing, tokenization, and sentiment analysis\n",
       "* **Computer vision**: Familiarity with computer vision techniques, including image processing, object detection, and image classification\n",
       "* **Data structures and algorithms**: Strong understanding of data structures like arrays, linked lists, and graphs, as well as algorithms like sorting, searching, and graph traversal\n",
       "* **Database management**: Knowledge of database management systems, including data modeling, data warehousing, and data querying\n",
       "* **Cloud computing**: Experience with cloud platforms like AWS, Azure, or Google Cloud to deploy and manage AI models\n",
       "* **Containerization**: Familiarity with containerization tools like Docker to package and deploy AI applications\n",
       "* **API design**: Understanding of API design principles, including RESTful APIs, API security, and API documentation\n",
       "* **Testing and debugging**: Knowledge of testing frameworks and debugging tools to ensure the quality and reliability of AI models\n",
       "* **DevOps**: Familiarity with DevOps practices, including continuous integration, continuous deployment, and continuous monitoring\n",
       "* **Data visualization**: Understanding of data visualization tools and techniques, including data storytelling and visualization best practices\n",
       "* **Collaboration tools**: Experience with collaboration tools like Git, GitHub, or Bitbucket to manage code repositories and collaborate with team members."
      ],
      "text/plain": [
       "<IPython.core.display.Markdown object>"
      ]
     },
     "execution_count": 9,
     "metadata": {},
     "output_type": "execute_result"
    }
   ],
   "source": [
    "Markdown(state['tech_stack'])"
   ]
  },
  {
   "cell_type": "code",
   "execution_count": 10,
   "metadata": {},
   "outputs": [
    {
     "data": {
      "text/markdown": [
       "### Summary of Soham's Roadmap to Becoming an AI Agents Developer\n",
       "To become an AI Agents Developer, Soham should follow a structured roadmap that covers foundations, AI fundamentals, specialization, and practice. Here's a brief summary:\n",
       "\n",
       "#### Key Phases\n",
       "1. **Phase 1: Foundations** (3-6 months): Focus on programming skills (Python), mathematics (Linear Algebra, Calculus, Probability, and Statistics), and introduction to AI and Machine Learning.\n",
       "2. **Phase 2: AI Fundamentals** (6-12 months): Study Machine Learning, Deep Learning, and AI Agents, including supervised, unsupervised, and reinforcement learning.\n",
       "3. **Phase 3: Specialization** (6-12 months): Learn about agent development frameworks, deployment, and evaluation metrics, as well as advanced topics like multi-agent systems.\n",
       "4. **Phase 4: Practice and Projects** (6-12 months): Develop personal projects, contribute to open-source projects, and participate in AI-related competitions.\n",
       "\n",
       "#### Top GitHub Repositories\n",
       "* [Unity ML-Agents](https://github.com/Unity-Technologies/ml-agents)\n",
       "* [Google's Dopamine](https://github.com/google/dopamine)\n",
       "* [Stanford CS229: Machine Learning](https://github.com/CS229/stanford-cs229-machine-learning)\n",
       "* [Deep RL](https://github.com/ShangtongZhang/DeepRL)\n",
       "* [AI Alignment Prize](https://github.com/ai-alignment-prize/ai-alignment-prize)\n",
       "\n",
       "#### Additional Resources\n",
       "* Books: \"Deep Learning\" and \"Reinforcement Learning: An Introduction\"\n",
       "* Courses: Stanford CS229: Machine Learning and Deep RL\n",
       "* Communities: Kaggle, Reddit: r/MachineLearning\n",
       "\n",
       "#### Technical Skills Required\n",
       "* Programming languages: Python, Java, C++, MATLAB\n",
       "* Machine learning frameworks: TensorFlow, PyTorch, Scikit-learn\n",
       "* Deep learning techniques: CNNs, RNNs, LSTMs\n",
       "* NLP, computer vision, data structures, algorithms, database management, cloud computing, containerization, API design, testing, and debugging.\n",
       "\n",
       "By following this roadmap and acquiring the necessary technical skills, Soham can become proficient in AI Agents Development and achieve his goals."
      ],
      "text/plain": [
       "<IPython.core.display.Markdown object>"
      ]
     },
     "execution_count": 10,
     "metadata": {},
     "output_type": "execute_result"
    }
   ],
   "source": [
    "Markdown(state['summary'])"
   ]
  },
  {
   "cell_type": "code",
   "execution_count": null,
   "metadata": {},
   "outputs": [],
   "source": []
  }
 ],
 "metadata": {
  "kernelspec": {
   "display_name": "venv",
   "language": "python",
   "name": "python3"
  },
  "language_info": {
   "codemirror_mode": {
    "name": "ipython",
    "version": 3
   },
   "file_extension": ".py",
   "mimetype": "text/x-python",
   "name": "python",
   "nbconvert_exporter": "python",
   "pygments_lexer": "ipython3",
   "version": "3.11.0"
  }
 },
 "nbformat": 4,
 "nbformat_minor": 2
}
